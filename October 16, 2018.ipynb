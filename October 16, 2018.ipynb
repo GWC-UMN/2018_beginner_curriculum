{
 "cells": [
  {
   "cell_type": "markdown",
   "metadata": {},
   "source": [
    "### October 16th, 2018\n",
    "\n",
    "Now you have learned using GWC Tutorials the basics of python. As a way to apply the knowledge you have learned the past month, we will apply these basics to hangman. We will write the code for the hangman game here in this Jupyter notebook. \n",
    "\n",
    "Below are a few notes that you should fill out by exploring HQ.girlswhocode.com. You can refer to these notes throughout the next weeks. You can also refer to the previous python notebook that we saved on gwcv@umn.edu google drive in your named folder.\n",
    "\n",
    "Sign in via drive.google.com: Username (gwcv@umn.edu), Password(Teampython1). \n",
    "\n",
    "\n"
   ]
  },
  {
   "cell_type": "markdown",
   "metadata": {},
   "source": [
    "### Part 1: Python Basics\n",
    "\n",
    "Define an input: (double click on this box to edit)\n",
    "\n",
    "\n",
    "Define an output:\n"
   ]
  },
  {
   "cell_type": "code",
   "execution_count": 1,
   "metadata": {},
   "outputs": [
    {
     "name": "stdout",
     "output_type": "stream",
     "text": [
      "What did you eat today? hi\n",
      "You said you ate hi.\n"
     ]
    }
   ],
   "source": [
    "#Example of an input: run this cell!\n",
    "answer = input('What did you eat today? ')\n",
    "print(\"You said you ate \" + answer + '.')"
   ]
  },
  {
   "cell_type": "markdown",
   "metadata": {},
   "source": [
    "What is the syntax to print 'Hello, world!\" ?\n",
    "\n",
    "\n",
    "Write it in a cell below and then run it! "
   ]
  },
  {
   "cell_type": "code",
   "execution_count": 2,
   "metadata": {},
   "outputs": [],
   "source": [
    "#Write the syntax to print 'Hello, world!'"
   ]
  },
  {
   "cell_type": "markdown",
   "metadata": {},
   "source": [
    "### Part 2: Variables\n",
    "\n",
    "Define a variable: \n",
    "\n",
    "\n",
    "Create a variable in the cell below named ```word``` and assign it a string with a random word that is 6-10 letters long. \n"
   ]
  },
  {
   "cell_type": "code",
   "execution_count": 3,
   "metadata": {},
   "outputs": [],
   "source": [
    "#Create a variable named word and assign it a string with a word that is 6-10 letters long.\n",
    "\n"
   ]
  },
  {
   "cell_type": "markdown",
   "metadata": {},
   "source": [
    "Create a variable in the cell below named ```word_length``` and assign it an integer that is the length of the word. "
   ]
  },
  {
   "cell_type": "code",
   "execution_count": null,
   "metadata": {},
   "outputs": [],
   "source": [
    "#Create a variable named word_length and assign it an integer that is the length of the word you assigned above: \n",
    "\n"
   ]
  },
  {
   "cell_type": "markdown",
   "metadata": {},
   "source": [
    "### Part 3: Loops (& Lists)\n",
    "\n",
    "Define a loop: \n",
    "\n"
   ]
  },
  {
   "cell_type": "markdown",
   "metadata": {},
   "source": [
    "In the cell below, write a loop to print out your variable ```word``` 5 times. "
   ]
  },
  {
   "cell_type": "code",
   "execution_count": null,
   "metadata": {},
   "outputs": [],
   "source": [
    "#Write a loop to print your word 5 times"
   ]
  },
  {
   "cell_type": "markdown",
   "metadata": {},
   "source": [
    "In the cell below, create a list that has an element for each letter in your word. \n"
   ]
  },
  {
   "cell_type": "code",
   "execution_count": 5,
   "metadata": {},
   "outputs": [],
   "source": [
    "#Create a list that has an element for each letter in your word as a string. \n",
    "\n"
   ]
  },
  {
   "cell_type": "markdown",
   "metadata": {},
   "source": [
    "In the cell below, write a for loop to print out each element in your list. "
   ]
  },
  {
   "cell_type": "code",
   "execution_count": 6,
   "metadata": {},
   "outputs": [],
   "source": [
    "#Write a loop to print out each element in your list\n",
    "\n"
   ]
  },
  {
   "cell_type": "markdown",
   "metadata": {},
   "source": [
    "In the cell below, create a list of body parts in string format for the hangman. Choose about 10 body parts. "
   ]
  },
  {
   "cell_type": "code",
   "execution_count": 7,
   "metadata": {},
   "outputs": [],
   "source": [
    "#Create a list that has an element for each body part as a string. "
   ]
  },
  {
   "cell_type": "markdown",
   "metadata": {},
   "source": [
    "### Part 5: Functions\n",
    "How do we define a function? \n",
    "Write the syntax below in this cell: \n"
   ]
  },
  {
   "cell_type": "markdown",
   "metadata": {},
   "source": [
    "Write a function that prints out an underscore for every letter in the word.\n",
    "Your function will take in the length of the word as a parameter(hint: you have a variable assigned to this). \n"
   ]
  },
  {
   "cell_type": "code",
   "execution_count": 8,
   "metadata": {},
   "outputs": [],
   "source": [
    "#Write a function that prints out an underscore for every letter in the word. \n",
    "\n"
   ]
  },
  {
   "cell_type": "markdown",
   "metadata": {},
   "source": [
    "Write a function that asks for an input of a letter. "
   ]
  },
  {
   "cell_type": "code",
   "execution_count": 9,
   "metadata": {},
   "outputs": [],
   "source": [
    "#Write a function that asks for an input of a leter. "
   ]
  },
  {
   "cell_type": "markdown",
   "metadata": {},
   "source": [
    "Write a function that checks for a letter inside a list with the word. The parameters of the function will be the list and the letter. Call the function after too. Return true or false for if the letter is in the word. "
   ]
  },
  {
   "cell_type": "code",
   "execution_count": null,
   "metadata": {},
   "outputs": [],
   "source": [
    "#Write a function that checks for a letter inside a list with the word."
   ]
  },
  {
   "cell_type": "markdown",
   "metadata": {},
   "source": [
    "### Make sure you save this python notebook and upload it to your google drive folder!!!!"
   ]
  },
  {
   "cell_type": "code",
   "execution_count": null,
   "metadata": {},
   "outputs": [],
   "source": []
  }
 ],
 "metadata": {
  "kernelspec": {
   "display_name": "Python 3",
   "language": "python",
   "name": "python3"
  },
  "language_info": {
   "codemirror_mode": {
    "name": "ipython",
    "version": 3
   },
   "file_extension": ".py",
   "mimetype": "text/x-python",
   "name": "python",
   "nbconvert_exporter": "python",
   "pygments_lexer": "ipython3",
   "version": "3.6.5"
  }
 },
 "nbformat": 4,
 "nbformat_minor": 2
}
