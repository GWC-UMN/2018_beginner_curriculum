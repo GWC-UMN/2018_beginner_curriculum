{
 "cells": [
  {
   "cell_type": "markdown",
   "metadata": {},
   "source": [
    "   # Hangman Example Code\n",
    "   \n",
    " \n",
    "     below is some of the more complicated code for setting up the game\n",
    "     \n",
    "  "
   ]
  },
  {
   "cell_type": "code",
   "execution_count": 7,
   "metadata": {},
   "outputs": [],
   "source": [
    "import random\n",
    "import turtle\n",
    "\n",
    "\n",
    "def makeHead(turtle_object):\n",
    "    \"\"\" Draws the persons head using dot\n",
    "\n",
    "    Args:\n",
    "        turtle_object (turtle object): the turtle object being used to\n",
    "            draw the man needs to be passed\n",
    "    \"\"\"\n",
    "\n",
    "    turtle_object.pu()\n",
    "    turtle_object.goto(380, 370)\n",
    "    turtle_object.dot(35, \"Blue\")\n",
    "\n",
    "\n",
    "def makeBodyPart(turtle_object, alist):\n",
    "    \"\"\"Draws a single body part (does not draw head), as a straight line\n",
    "\n",
    "    Args:\n",
    "        turtle_object (turtle object): the turtle object being used to\n",
    "            draw the man needs to be passed\n",
    "        alist (List [List][int]): A double nested list. First list is\n",
    "            the starting point, second list is the ending point\n",
    "            first int is x, second int is y in the nested list.\n",
    "    \"\"\"\n",
    "\n",
    "    turtle_object.pu()\n",
    "    turtle_object.pencolor(\"Blue\")\n",
    "    # move to the start of the body part\n",
    "    turtle_object.goto(alist[0][0], alist[0][1])\n",
    "    turtle_object.pd()\n",
    "    # move to the end of the body part\n",
    "    turtle_object.goto(alist[1][0], alist[1][1])\n",
    "    turtle_object.pu()\n",
    "    turtle_object.pencolor(\"Black\")\n",
    "    \n",
    "    \n",
    "def boardSetUp(turtle_object):#set up the board for play\n",
    "    turtle_object.goto(400,200)#make it go to edge of the hangman\n",
    "    turtle_object.pd()\n",
    "    turtle_object.goto(500, 200)#make it go to the other end of the base\n",
    "    turtle_object.goto(450, 200)#make it go to the middle of the thing\n",
    "    turtle_object.goto(450, 400)#go up to the top of the structure\n",
    "    turtle_object.goto(380, 400)#go to the left for the top arm\n",
    "    turtle_object.goto(380, 380)#go down a little bit for the head to hang on\n",
    "    turtle_object.pu()\n",
    "    turtle_object.goto(20,340)\n",
    "    turtle_object.write(\"Previous guesses below.\", False, \"left\", (\"Arial\", 19, \"normal\"))"
   ]
  },
  {
   "cell_type": "markdown",
   "metadata": {},
   "source": [
    "For printing out a letter that is guessed correctly. "
   ]
  },
  {
   "cell_type": "code",
   "execution_count": 9,
   "metadata": {},
   "outputs": [],
   "source": [
    "def printLetter(turtle_object, position, letter):\n",
    "    # given a letter and position in a word draw the letter in the right spot\n",
    "    turtle_object.pu()\n",
    "    for spot in position:\n",
    "        turtle_object.goto(38+60*spot, 75)\n",
    "        turtle_object.write(letter, move=False, align=\"left\", font=(\"Arial\", 32, \"normal\"))"
   ]
  },
  {
   "cell_type": "markdown",
   "metadata": {},
   "source": [
    "Single Loop, for drawing the underscores, cords where just found with trial and error"
   ]
  },
  {
   "cell_type": "code",
   "execution_count": 8,
   "metadata": {},
   "outputs": [],
   "source": [
    "def underScores(turtle_object, word):\n",
    "    \"\"\"Draws underscores for every letter in the word. For board set up\n",
    "\n",
    "    Args:\n",
    "        turtle_object (turtle): pass the turtle you are drawing with\n",
    "        word (str): pass the string you are playing with\n",
    "    \"\"\"\n",
    "\n",
    "    wordlen = len(word)\n",
    "    turtle_object.goto(30, 75)\n",
    "    underscore = 0\n",
    "    while underscore < wordlen:\n",
    "        turtle_object.pd()\n",
    "        turtle_object.forward(30)\n",
    "        turtle_object.pu()\n",
    "        turtle_object.forward(30)\n",
    "        underscore += 1"
   ]
  },
  {
   "cell_type": "markdown",
   "metadata": {},
   "source": [
    "Loops, conditionals, and lists"
   ]
  },
  {
   "cell_type": "code",
   "execution_count": 10,
   "metadata": {},
   "outputs": [],
   "source": [
    "def positions(word, theLetter):\n",
    "    \"\"\"Looks for all locations of theLetter in word\n",
    "\n",
    "    Args:\n",
    "        word (Str): Pass the correct answer to the game as a string\n",
    "        theLetter (Str): Pass a single letter\n",
    "\n",
    "    Returns:\n",
    "        [List [int]]: Will return a list of all the positions of theLetter\n",
    "            in the word. If the letter is not in the word, will return an \n",
    "            Empty list\n",
    "    \"\"\"\n",
    "\n",
    "    positions = []\n",
    "    position = 0\n",
    "    for letter in word:\n",
    "        if letter == theLetter:\n",
    "            positions.append(position)\n",
    "        position += 1\n",
    "    return positions"
   ]
  },
  {
   "cell_type": "markdown",
   "metadata": {},
   "source": [
    "Main gameplay"
   ]
  },
  {
   "cell_type": "code",
   "execution_count": 11,
   "metadata": {},
   "outputs": [],
   "source": [
    "def playHangman(turtle_object, screen, word):\n",
    "    bodyparts = [[(380, 360), (380, 290)],\n",
    "                 [(380, 340), (355, 320)],\n",
    "                 [(380, 340), (405, 320)],\n",
    "                 [(380, 290), (355, 260)],\n",
    "                 [(380, 290), (405, 260)]]\n",
    "    solved = False\n",
    "    tries = 0\n",
    "    letter = 0\n",
    "    totalguess = 0\n",
    "    alreadyGuessed = []\n",
    "    prompt = \"Guess a new letter: \"\n",
    "    while not solved and tries < 6:\n",
    "        guess = screen.textinput('', prompt)\n",
    "        guess = guess.upper()\n",
    "        if guess in alreadyGuessed:\n",
    "            prompt = \"You already guessed that letter, try a new letter\"\n",
    "        elif guess == '':\n",
    "            prompt = \"Please guess a letter\"\n",
    "        elif len(guess) > 1:\n",
    "            prompt = \"Please only guess one letter at a time.\"\n",
    "        elif positions(word, guess) == []:\n",
    "            #If it is not in the word\n",
    "            totalguess += 1\n",
    "            alreadyGuessed.append(guess)\n",
    "            #next lines adds letter to a row of already guessed letters, not needed\n",
    "            turtle_object.goto(25+15*totalguess, 290)\n",
    "            turtle_object.write(guess, False, \"left\", (\"Arial\", 15, \"normal\"))\n",
    "            \n",
    "            #Below draws either a head or a body part.\n",
    "            if tries == 0:\n",
    "                makeHead(turtle_object)\n",
    "                screen.update()\n",
    "            else:\n",
    "                makeBodyPart(turtle_object, bodyparts[tries-1])\n",
    "                screen.update()\n",
    "            tries += 1\n",
    "            \n",
    "        else:\n",
    "            #if it reaches the else the letter is in the word\n",
    "            totalguess += 1\n",
    "            letter += len(positions(word, guess))\n",
    "            alreadyGuessed.append(guess)\n",
    "            positionLetter = positions(word, guess)\n",
    "            # draw the letters on the board\n",
    "            printLetter(turtle_object, positionLetter, guess)\n",
    "            turtle_object.goto(25+15*totalguess, 290)\n",
    "            turtle_object.write(guess, False, \"left\", (\"Arial\", 15, \"normal\"))\n",
    "            screen.update()\n",
    "\n",
    "        if letter == len(word):\n",
    "            solved = True\n",
    "    if tries == 6:\n",
    "        turtle_object.goto(50, 225)\n",
    "        turtle_object.write('Sorry you lose!', False, \"left\", (\"Arial\", 40, \"normal\"))\n",
    "        turtle_object.goto(50, 150)\n",
    "        turtle_object.write('The word was '+word, False, \"left\", (\"Arial\", 30, \"normal\"))\n",
    "    else:\n",
    "        turtle_object.goto(75, 225)\n",
    "        turtle_object.write('Congratulations!!', False, \"left\", (\"Arial\", 42, \"normal\"))"
   ]
  },
  {
   "cell_type": "markdown",
   "metadata": {},
   "source": [
    "Set up game and start it"
   ]
  },
  {
   "cell_type": "code",
   "execution_count": 12,
   "metadata": {},
   "outputs": [
    {
     "ename": "Terminator",
     "evalue": "",
     "output_type": "error",
     "traceback": [
      "\u001b[1;31m---------------------------------------------------------------------------\u001b[0m",
      "\u001b[1;31mTerminator\u001b[0m                                Traceback (most recent call last)",
      "\u001b[1;32m<ipython-input-12-bb7e01093927>\u001b[0m in \u001b[0;36m<module>\u001b[1;34m()\u001b[0m\n\u001b[0;32m     20\u001b[0m \u001b[1;33m\u001b[0m\u001b[0m\n\u001b[0;32m     21\u001b[0m \u001b[1;32mif\u001b[0m \u001b[0m__name__\u001b[0m \u001b[1;33m==\u001b[0m \u001b[1;34m'__main__'\u001b[0m\u001b[1;33m:\u001b[0m\u001b[1;33m\u001b[0m\u001b[0m\n\u001b[1;32m---> 22\u001b[1;33m     \u001b[0mmain\u001b[0m\u001b[1;33m(\u001b[0m\u001b[1;33m)\u001b[0m\u001b[1;33m\u001b[0m\u001b[0m\n\u001b[0m",
      "\u001b[1;32m<ipython-input-12-bb7e01093927>\u001b[0m in \u001b[0;36mmain\u001b[1;34m()\u001b[0m\n\u001b[0;32m      1\u001b[0m \u001b[1;32mdef\u001b[0m \u001b[0mmain\u001b[0m\u001b[1;33m(\u001b[0m\u001b[1;33m)\u001b[0m\u001b[1;33m:\u001b[0m\u001b[1;31m#set up screen, get a word, call the game of hangman, ask if you want to play again\u001b[0m\u001b[1;33m\u001b[0m\u001b[0m\n\u001b[1;32m----> 2\u001b[1;33m     \u001b[0mdraw\u001b[0m \u001b[1;33m=\u001b[0m \u001b[0mturtle\u001b[0m\u001b[1;33m.\u001b[0m\u001b[0mTurtle\u001b[0m\u001b[1;33m(\u001b[0m\u001b[1;33m)\u001b[0m\u001b[1;33m\u001b[0m\u001b[0m\n\u001b[0m\u001b[0;32m      3\u001b[0m     \u001b[0mscreen\u001b[0m\u001b[1;33m=\u001b[0m\u001b[0mdraw\u001b[0m\u001b[1;33m.\u001b[0m\u001b[0mgetscreen\u001b[0m\u001b[1;33m(\u001b[0m\u001b[1;33m)\u001b[0m\u001b[1;33m\u001b[0m\u001b[0m\n\u001b[0;32m      4\u001b[0m     \u001b[0mdraw\u001b[0m\u001b[1;33m.\u001b[0m\u001b[0mspeed\u001b[0m\u001b[1;33m(\u001b[0m\u001b[1;36m0\u001b[0m\u001b[1;33m)\u001b[0m\u001b[1;33m\u001b[0m\u001b[0m\n\u001b[0;32m      5\u001b[0m     \u001b[0mscreen\u001b[0m\u001b[1;33m.\u001b[0m\u001b[0mdelay\u001b[0m\u001b[1;33m(\u001b[0m\u001b[1;36m0\u001b[0m\u001b[1;33m)\u001b[0m\u001b[1;33m\u001b[0m\u001b[0m\n",
      "\u001b[1;32mC:\\ProgramData\\Anaconda3\\lib\\turtle.py\u001b[0m in \u001b[0;36m__init__\u001b[1;34m(self, shape, undobuffersize, visible)\u001b[0m\n\u001b[0;32m   3814\u001b[0m                            \u001b[0mshape\u001b[0m\u001b[1;33m=\u001b[0m\u001b[0mshape\u001b[0m\u001b[1;33m,\u001b[0m\u001b[1;33m\u001b[0m\u001b[0m\n\u001b[0;32m   3815\u001b[0m                            \u001b[0mundobuffersize\u001b[0m\u001b[1;33m=\u001b[0m\u001b[0mundobuffersize\u001b[0m\u001b[1;33m,\u001b[0m\u001b[1;33m\u001b[0m\u001b[0m\n\u001b[1;32m-> 3816\u001b[1;33m                            visible=visible)\n\u001b[0m\u001b[0;32m   3817\u001b[0m \u001b[1;33m\u001b[0m\u001b[0m\n\u001b[0;32m   3818\u001b[0m \u001b[0mPen\u001b[0m \u001b[1;33m=\u001b[0m \u001b[0mTurtle\u001b[0m\u001b[1;33m\u001b[0m\u001b[0m\n",
      "\u001b[1;32mC:\\ProgramData\\Anaconda3\\lib\\turtle.py\u001b[0m in \u001b[0;36m__init__\u001b[1;34m(self, canvas, shape, undobuffersize, visible)\u001b[0m\n\u001b[0;32m   2555\u001b[0m         \u001b[0mself\u001b[0m\u001b[1;33m.\u001b[0m\u001b[0m_undobuffersize\u001b[0m \u001b[1;33m=\u001b[0m \u001b[0mundobuffersize\u001b[0m\u001b[1;33m\u001b[0m\u001b[0m\n\u001b[0;32m   2556\u001b[0m         \u001b[0mself\u001b[0m\u001b[1;33m.\u001b[0m\u001b[0mundobuffer\u001b[0m \u001b[1;33m=\u001b[0m \u001b[0mTbuffer\u001b[0m\u001b[1;33m(\u001b[0m\u001b[0mundobuffersize\u001b[0m\u001b[1;33m)\u001b[0m\u001b[1;33m\u001b[0m\u001b[0m\n\u001b[1;32m-> 2557\u001b[1;33m         \u001b[0mself\u001b[0m\u001b[1;33m.\u001b[0m\u001b[0m_update\u001b[0m\u001b[1;33m(\u001b[0m\u001b[1;33m)\u001b[0m\u001b[1;33m\u001b[0m\u001b[0m\n\u001b[0m\u001b[0;32m   2558\u001b[0m \u001b[1;33m\u001b[0m\u001b[0m\n\u001b[0;32m   2559\u001b[0m     \u001b[1;32mdef\u001b[0m \u001b[0mreset\u001b[0m\u001b[1;33m(\u001b[0m\u001b[0mself\u001b[0m\u001b[1;33m)\u001b[0m\u001b[1;33m:\u001b[0m\u001b[1;33m\u001b[0m\u001b[0m\n",
      "\u001b[1;32mC:\\ProgramData\\Anaconda3\\lib\\turtle.py\u001b[0m in \u001b[0;36m_update\u001b[1;34m(self)\u001b[0m\n\u001b[0;32m   2658\u001b[0m             \u001b[1;32mreturn\u001b[0m\u001b[1;33m\u001b[0m\u001b[0m\n\u001b[0;32m   2659\u001b[0m         \u001b[1;32melif\u001b[0m \u001b[0mscreen\u001b[0m\u001b[1;33m.\u001b[0m\u001b[0m_tracing\u001b[0m \u001b[1;33m==\u001b[0m \u001b[1;36m1\u001b[0m\u001b[1;33m:\u001b[0m\u001b[1;33m\u001b[0m\u001b[0m\n\u001b[1;32m-> 2660\u001b[1;33m             \u001b[0mself\u001b[0m\u001b[1;33m.\u001b[0m\u001b[0m_update_data\u001b[0m\u001b[1;33m(\u001b[0m\u001b[1;33m)\u001b[0m\u001b[1;33m\u001b[0m\u001b[0m\n\u001b[0m\u001b[0;32m   2661\u001b[0m             \u001b[0mself\u001b[0m\u001b[1;33m.\u001b[0m\u001b[0m_drawturtle\u001b[0m\u001b[1;33m(\u001b[0m\u001b[1;33m)\u001b[0m\u001b[1;33m\u001b[0m\u001b[0m\n\u001b[0;32m   2662\u001b[0m             \u001b[0mscreen\u001b[0m\u001b[1;33m.\u001b[0m\u001b[0m_update\u001b[0m\u001b[1;33m(\u001b[0m\u001b[1;33m)\u001b[0m                  \u001b[1;31m# TurtleScreenBase\u001b[0m\u001b[1;33m\u001b[0m\u001b[0m\n",
      "\u001b[1;32mC:\\ProgramData\\Anaconda3\\lib\\turtle.py\u001b[0m in \u001b[0;36m_update_data\u001b[1;34m(self)\u001b[0m\n\u001b[0;32m   2644\u001b[0m \u001b[1;33m\u001b[0m\u001b[0m\n\u001b[0;32m   2645\u001b[0m     \u001b[1;32mdef\u001b[0m \u001b[0m_update_data\u001b[0m\u001b[1;33m(\u001b[0m\u001b[0mself\u001b[0m\u001b[1;33m)\u001b[0m\u001b[1;33m:\u001b[0m\u001b[1;33m\u001b[0m\u001b[0m\n\u001b[1;32m-> 2646\u001b[1;33m         \u001b[0mself\u001b[0m\u001b[1;33m.\u001b[0m\u001b[0mscreen\u001b[0m\u001b[1;33m.\u001b[0m\u001b[0m_incrementudc\u001b[0m\u001b[1;33m(\u001b[0m\u001b[1;33m)\u001b[0m\u001b[1;33m\u001b[0m\u001b[0m\n\u001b[0m\u001b[0;32m   2647\u001b[0m         \u001b[1;32mif\u001b[0m \u001b[0mself\u001b[0m\u001b[1;33m.\u001b[0m\u001b[0mscreen\u001b[0m\u001b[1;33m.\u001b[0m\u001b[0m_updatecounter\u001b[0m \u001b[1;33m!=\u001b[0m \u001b[1;36m0\u001b[0m\u001b[1;33m:\u001b[0m\u001b[1;33m\u001b[0m\u001b[0m\n\u001b[0;32m   2648\u001b[0m             \u001b[1;32mreturn\u001b[0m\u001b[1;33m\u001b[0m\u001b[0m\n",
      "\u001b[1;32mC:\\ProgramData\\Anaconda3\\lib\\turtle.py\u001b[0m in \u001b[0;36m_incrementudc\u001b[1;34m(self)\u001b[0m\n\u001b[0;32m   1290\u001b[0m         \u001b[1;32mif\u001b[0m \u001b[1;32mnot\u001b[0m \u001b[0mTurtleScreen\u001b[0m\u001b[1;33m.\u001b[0m\u001b[0m_RUNNING\u001b[0m\u001b[1;33m:\u001b[0m\u001b[1;33m\u001b[0m\u001b[0m\n\u001b[0;32m   1291\u001b[0m             \u001b[0mTurtleScreen\u001b[0m\u001b[1;33m.\u001b[0m\u001b[0m_RUNNING\u001b[0m \u001b[1;33m=\u001b[0m \u001b[1;32mTrue\u001b[0m\u001b[1;33m\u001b[0m\u001b[0m\n\u001b[1;32m-> 1292\u001b[1;33m             \u001b[1;32mraise\u001b[0m \u001b[0mTerminator\u001b[0m\u001b[1;33m\u001b[0m\u001b[0m\n\u001b[0m\u001b[0;32m   1293\u001b[0m         \u001b[1;32mif\u001b[0m \u001b[0mself\u001b[0m\u001b[1;33m.\u001b[0m\u001b[0m_tracing\u001b[0m \u001b[1;33m>\u001b[0m \u001b[1;36m0\u001b[0m\u001b[1;33m:\u001b[0m\u001b[1;33m\u001b[0m\u001b[0m\n\u001b[0;32m   1294\u001b[0m             \u001b[0mself\u001b[0m\u001b[1;33m.\u001b[0m\u001b[0m_updatecounter\u001b[0m \u001b[1;33m+=\u001b[0m \u001b[1;36m1\u001b[0m\u001b[1;33m\u001b[0m\u001b[0m\n",
      "\u001b[1;31mTerminator\u001b[0m: "
     ]
    }
   ],
   "source": [
    "def main():#set up screen, get a word, call the game of hangman, ask if you want to play again\n",
    "    draw = turtle.Turtle()\n",
    "    screen=draw.getscreen()\n",
    "    draw.speed(0)\n",
    "    screen.delay(0)\n",
    "    screen.setworldcoordinates(0,0,520,520)\n",
    "    draw.ht()\n",
    "    draw.pu()\n",
    "    draw.pensize(3)\n",
    "    wordlist=['KNOW', 'FIRE', 'WATER', 'EARTH', 'EXAMPLE', 'PYTHON', 'TURTLE', 'TEACHER', 'RANDOM'\n",
    "              'PEN', 'SCREEN', 'SPEED', 'WORLD']#the list of words\n",
    "    random.shuffle(wordlist)#randomize the list\n",
    "\n",
    "    draw.clear()\n",
    "    boardSetUp(draw)\n",
    "    underScores(draw, wordlist[0])\n",
    "    playHangman(draw, screen, wordlist[0])\n",
    "    turtle.mainloop()\n",
    "\n",
    "\n",
    "if __name__ == '__main__':\n",
    "    main()"
   ]
  },
  {
   "cell_type": "code",
   "execution_count": null,
   "metadata": {},
   "outputs": [],
   "source": []
  },
  {
   "cell_type": "code",
   "execution_count": null,
   "metadata": {},
   "outputs": [],
   "source": []
  }
 ],
 "metadata": {
  "kernelspec": {
   "display_name": "Python 3",
   "language": "python",
   "name": "python3"
  },
  "language_info": {
   "codemirror_mode": {
    "name": "ipython",
    "version": 3
   },
   "file_extension": ".py",
   "mimetype": "text/x-python",
   "name": "python",
   "nbconvert_exporter": "python",
   "pygments_lexer": "ipython3",
   "version": "3.6.5"
  }
 },
 "nbformat": 4,
 "nbformat_minor": 2
}
