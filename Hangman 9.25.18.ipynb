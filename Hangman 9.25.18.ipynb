{
 "cells": [
  {
   "cell_type": "markdown",
   "metadata": {},
   "source": [
    "This is a Jupyter Notebook. Look at all of the buttons above. Talk with your neighbor about what you think each button does. \n",
    "\n",
    "This is called a \"markdown\" cell. What are the 4 types of cells we can have in Jupyter Notebook?\n",
    "\n",
    "Below are some tasks for you to do before we continue: \n",
    "1. Change the title of this Jupyter Notebook to Hangman- Your First and Last Name- 9.25.18\n",
    "\n",
    "2. Create a new cell that has markdown text and move it above this cell. In this cell- add your name, grade, and school. Click run on your markdown cell. What happens when you click run?\n",
    "\n",
    "3. Create another new cell and give it a heading called \"Rules for Hangman\". Add the rules you think are in the game. \n"
   ]
  },
  {
   "cell_type": "code",
   "execution_count": null,
   "metadata": {},
   "outputs": [],
   "source": []
  },
  {
   "cell_type": "markdown",
   "metadata": {},
   "source": [
    "# Think of a Word for hangma!\n",
    "\n",
    "Assign your word to a ```variable```. Make sure you make it a ```string```. \n",
    "    Check that it is a string with your neighbor!"
   ]
  },
  {
   "cell_type": "code",
   "execution_count": null,
   "metadata": {},
   "outputs": [],
   "source": []
  },
  {
   "cell_type": "code",
   "execution_count": null,
   "metadata": {},
   "outputs": [],
   "source": []
  },
  {
   "cell_type": "markdown",
   "metadata": {},
   "source": [
    "Assign another ```variable``` that represents the number of letters in your word. Make you make it the correct data type. What is this data type? Check with your group! "
   ]
  },
  {
   "cell_type": "code",
   "execution_count": null,
   "metadata": {},
   "outputs": [],
   "source": []
  },
  {
   "cell_type": "markdown",
   "metadata": {},
   "source": [
    "# Think of the inputs and outputs that Hangman requires.\n",
    "Add a markdown cell below with what you think the computer should ask"
   ]
  },
  {
   "cell_type": "code",
   "execution_count": null,
   "metadata": {},
   "outputs": [],
   "source": []
  },
  {
   "cell_type": "markdown",
   "metadata": {},
   "source": [
    "# Create a list with each letter in your word as a single element in the list. \n",
    "Ask your TA for help if you need help!"
   ]
  },
  {
   "cell_type": "code",
   "execution_count": null,
   "metadata": {},
   "outputs": [],
   "source": []
  },
  {
   "cell_type": "markdown",
   "metadata": {},
   "source": [
    "# Create a list with each letter in your word as a blank underscore as a single element in the list. \n"
   ]
  },
  {
   "cell_type": "code",
   "execution_count": null,
   "metadata": {},
   "outputs": [],
   "source": []
  },
  {
   "cell_type": "markdown",
   "metadata": {},
   "source": [
    "# Check that the length of both lists is equal to each other. \n",
    "Use the len() function."
   ]
  },
  {
   "cell_type": "code",
   "execution_count": null,
   "metadata": {},
   "outputs": [],
   "source": []
  },
  {
   "cell_type": "markdown",
   "metadata": {},
   "source": [
    "# If you have time: \n",
    "    Create inputs for guessing letters and append each input to a guessing list! Ask your TA for help and use Google!"
   ]
  },
  {
   "cell_type": "code",
   "execution_count": null,
   "metadata": {},
   "outputs": [],
   "source": []
  }
 ],
 "metadata": {
  "kernelspec": {
   "display_name": "Python 3",
   "language": "python",
   "name": "python3"
  },
  "language_info": {
   "codemirror_mode": {
    "name": "ipython",
    "version": 3
   },
   "file_extension": ".py",
   "mimetype": "text/x-python",
   "name": "python",
   "nbconvert_exporter": "python",
   "pygments_lexer": "ipython3",
   "version": "3.6.5"
  }
 },
 "nbformat": 4,
 "nbformat_minor": 2
}
