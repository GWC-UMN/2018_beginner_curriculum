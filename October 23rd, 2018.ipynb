{
 "cells": [
  {
   "cell_type": "markdown",
   "metadata": {},
   "source": [
    "### October 23rd, 2018\n",
    "\n",
    "Last week, we went through a python notebook that started to apply some of our Python basics to Hangman. Today, we will use some code given by this notebook as well as code that we start to write ourselves to play a game of Hangman. You should use your TAs as a resource to ask questions and your fellow students to think about ways to solve these problem. \n",
    "\n",
    "You should refer to the previous python notebook that we saved on gwcv@umn.edu google drive in your named folder.\n",
    "\n",
    "Sign in via drive.google.com: Username (gwcv@umn.edu), Password(Teampython1). \n",
    "\n",
    "\n",
    "### Objectives for the day: \n",
    "1. Start coding Hangman \n",
    "\n",
    "2. Learn how to edit fonts in Markdown Text\n",
    "\n",
    "3. Start Brainstorming in groups your group final project topic. \n",
    "\n",
    "\n",
    "# Mark your calendars! November 27th, Girls Who Code UMN is taking a FIELD TRIP! To Field Nation! \n",
    "\n",
    "https://www.fieldnation.com/\n"
   ]
  },
  {
   "cell_type": "markdown",
   "metadata": {},
   "source": [
    "# Objective 1: Start Coding Hangman"
   ]
  },
  {
   "cell_type": "markdown",
   "metadata": {},
   "source": [
    "1.The box  below should have an input prompt that asks for a word from Player 1 in Hangman: \n",
    "\n",
    " *What code did you use last week that can help you?*"
   ]
  },
  {
   "cell_type": "code",
   "execution_count": 1,
   "metadata": {},
   "outputs": [],
   "source": [
    "#This box should include an input prompt that asks for a word from Player 1 in Hangman: \n",
    "#Make sure to assign the word to a variable and make sure the word is a string! \n",
    "\n"
   ]
  },
  {
   "cell_type": "markdown",
   "metadata": {},
   "source": [
    "2.Create a list with 10 body parts to represent 10 wrong guesses in Hangman. The list should have 10 strings. \n",
    "\n",
    "3.Check the length of the list by printing out the length of the list. Finally, print the list.  "
   ]
  },
  {
   "cell_type": "code",
   "execution_count": null,
   "metadata": {},
   "outputs": [],
   "source": [
    "#This box should include a list with 10 body parts to represent 10 wrong guesses in Hangman\n",
    "\n"
   ]
  },
  {
   "cell_type": "code",
   "execution_count": 2,
   "metadata": {},
   "outputs": [],
   "source": [
    "#This box should print the length of the list of body parts and print the list contents. \n",
    "\n"
   ]
  },
  {
   "cell_type": "markdown",
   "metadata": {},
   "source": [
    "4.Create a variable that is equivalent to the length of the word that is input by Player 1. \n",
    "\n",
    "*What function have we learned that can check the length of the word?*"
   ]
  },
  {
   "cell_type": "code",
   "execution_count": 3,
   "metadata": {},
   "outputs": [],
   "source": [
    "#This box should create a new variable with an integer value that is equal to the length of the word\n",
    "\n"
   ]
  },
  {
   "cell_type": "markdown",
   "metadata": {},
   "source": [
    "5.Write a for loop that adds a '_' to a list for every letter in the word input by Player 1. Use the variable you made above that represents the length of the letter. \n",
    "Make sure to name this list \"word_blanks\". "
   ]
  },
  {
   "cell_type": "code",
   "execution_count": 5,
   "metadata": {},
   "outputs": [],
   "source": [
    "#This box should have a for loop that adds a '_' for every letter in the word to a list called \"word_blanks\"\n",
    "\n"
   ]
  },
  {
   "cell_type": "markdown",
   "metadata": {},
   "source": [
    "6.Below is a function that looks for a letter in a word. Read through this function and discuss with your group and TA what each line of code does. \n",
    "Comment the code accordingly. \n"
   ]
  },
  {
   "cell_type": "code",
   "execution_count": 6,
   "metadata": {},
   "outputs": [],
   "source": [
    "def positions(word, theLetter):\n",
    "    \"\"\"Looks for all locations of theLetter in word\n",
    "\n",
    "    Args:\n",
    "        word (Str): Pass the correct answer to the game as a string\n",
    "        theLetter (Str): Pass a single letter\n",
    "\n",
    "    Returns:\n",
    "        [List [int]]: Will return a list of all the positions of theLetter\n",
    "            in the word. If the letter is not in the word, will return an \n",
    "            Empty list\n",
    "    \"\"\"\n",
    "\n",
    "    positions = []\n",
    "    position = 0\n",
    "    for letter in word:\n",
    "        if letter == theLetter:\n",
    "            positions.append(position)\n",
    "        position += 1\n",
    "    return positions"
   ]
  },
  {
   "cell_type": "markdown",
   "metadata": {},
   "source": [
    "7.Write a function that uses the code from the above boxes to `begin` the game. The function should be named begin. \n",
    "\n",
    "The function should do the following: \n",
    "1. Prompt player 1 to input their word\n",
    "2. Print out the blank spaces representing the word\n",
    "3. Call another function named guess that will prompt player 2 to guess. "
   ]
  },
  {
   "cell_type": "code",
   "execution_count": null,
   "metadata": {},
   "outputs": [],
   "source": [
    "#This box should contain a function called begin\n",
    "\n"
   ]
  },
  {
   "cell_type": "markdown",
   "metadata": {},
   "source": [
    "8.Write a function that prompts player 2 to `guess` a letter. It should return the letter the player guessed. \n"
   ]
  },
  {
   "cell_type": "code",
   "execution_count": null,
   "metadata": {},
   "outputs": [],
   "source": [
    "#This box should contain a function called guess\n",
    "\n"
   ]
  },
  {
   "cell_type": "markdown",
   "metadata": {},
   "source": [
    "# Objective 2: Learn how to edit fonts in Markdown Text"
   ]
  },
  {
   "cell_type": "markdown",
   "metadata": {},
   "source": [
    "Its time to get creative!\n",
    "Use your google search skills to learn how to make markdown text in python notebook with cool fonts and/or colors. \n",
    "\n",
    "Hint: https://www.ibm.com/support/knowledgecenter/SSQNUZ_current/com.ibm.icpdata.doc/dsx/markd-jupyter.html\n",
    "\n",
    "\n",
    "In the below boxes, write a blog post! Your post can be about anything you want. Here are some prompts to get your creative juices flowing: \n",
    "\n",
    "1. What is your first memory?\n",
    "2. Who is your role model?\n",
    "3. What do you want to be when you grow up?\n",
    "4. Where is your favorite place in the world?\n",
    "\n",
    "Personalize it to make it look customized to how you want it to look. You should use at least 3 different colors in your \"blog post\" below.\n",
    "\n",
    "\n",
    "\n",
    "See if you can figure out how to add a picture. You can add pictures that relate to things about yourself, such as your favorite youtuber, food, school subject, etc. \n",
    "\n",
    "*If you add a picture, do it with the URL of the picture on google images instead of downloading the picture. \n",
    "\n",
    "\n",
    "Share your blog post with your TA and your group. "
   ]
  },
  {
   "cell_type": "markdown",
   "metadata": {},
   "source": [
    "# My Blog Post: "
   ]
  },
  {
   "cell_type": "code",
   "execution_count": null,
   "metadata": {},
   "outputs": [],
   "source": []
  },
  {
   "cell_type": "markdown",
   "metadata": {},
   "source": [
    "# Objective 3: Start brainstorming in groups your group's final project\n",
    "\n",
    "Each group in the beginner level class will complete one project throughout the rest of the semester. From now till December, we will be working on this project, with the goal of presenting it to the class/your parents by the end! \n",
    "\n",
    "\n",
    "Think of some games that you like to play (i.e. Tic Tac Toe, connect four, dots and boxes). Think of how a computer could be used to play it. Is the game a player 1 vs player 2? Is the game a player vs a computer?\n",
    "\n",
    "Discuss with your group and think of 4 games that you would be interested in coding. \n",
    "\n",
    "Start to write down the rules to the game and talk with your TA about how easy/hard you think it would be to implement these rules. \n",
    "\n",
    "List these games/rules below:"
   ]
  },
  {
   "cell_type": "code",
   "execution_count": null,
   "metadata": {},
   "outputs": [],
   "source": []
  },
  {
   "cell_type": "code",
   "execution_count": null,
   "metadata": {},
   "outputs": [],
   "source": []
  },
  {
   "cell_type": "code",
   "execution_count": null,
   "metadata": {},
   "outputs": [],
   "source": []
  }
 ],
 "metadata": {
  "kernelspec": {
   "display_name": "Python 3",
   "language": "python",
   "name": "python3"
  },
  "language_info": {
   "codemirror_mode": {
    "name": "ipython",
    "version": 3
   },
   "file_extension": ".py",
   "mimetype": "text/x-python",
   "name": "python",
   "nbconvert_exporter": "python",
   "pygments_lexer": "ipython3",
   "version": "3.6.5"
  }
 },
 "nbformat": 4,
 "nbformat_minor": 2
}
